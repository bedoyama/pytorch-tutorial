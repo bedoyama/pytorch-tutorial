{
 "cells": [
  {
   "cell_type": "code",
   "execution_count": 1,
   "id": "717d8632-6083-4cc8-be87-9c74aa1df71b",
   "metadata": {},
   "outputs": [],
   "source": [
    "import os\n",
    "import torch\n",
    "from torch import nn\n",
    "from torch.utils.data import DataLoader\n",
    "from torchvision import datasets, transforms"
   ]
  },
  {
   "cell_type": "code",
   "execution_count": 2,
   "id": "582ed756-26f6-49ea-bc0b-b81cf40b006f",
   "metadata": {},
   "outputs": [
    {
     "name": "stdout",
     "output_type": "stream",
     "text": [
      "Using mps device\n"
     ]
    }
   ],
   "source": [
    "# Get Device for Training\n",
    "device = (\n",
    "    \"cuda\"\n",
    "    if torch.cuda.is_available()\n",
    "    else \"mps\"\n",
    "    if torch.backends.mps.is_available()\n",
    "    else \"cpu\"\n",
    ")\n",
    "print(f\"Using {device} device\")"
   ]
  },
  {
   "cell_type": "code",
   "execution_count": 3,
   "id": "16e0072a-a6c3-4bc5-9db5-f1a13eb934d6",
   "metadata": {},
   "outputs": [],
   "source": [
    "# Define the Class\n",
    "class NeuralNetwork(nn.Module):\n",
    "    def __init__(self):\n",
    "        super().__init__()\n",
    "        self.flatten = nn.Flatten()\n",
    "        self.linear_relu_stack = nn.Sequential(\n",
    "            nn.Linear(28*28, 512),\n",
    "            nn.ReLU(),\n",
    "            nn.Linear(512, 512),\n",
    "            nn.ReLU(),\n",
    "            nn.Linear(512, 10),\n",
    "        )\n",
    "\n",
    "    def forward(self, x):\n",
    "        x = self.flatten(x)\n",
    "        logits = self.linear_relu_stack(x)\n",
    "        return logits"
   ]
  },
  {
   "cell_type": "code",
   "execution_count": 4,
   "id": "f182d1f8-f3f9-47f1-873c-6a5fc3c59ee8",
   "metadata": {},
   "outputs": [
    {
     "name": "stdout",
     "output_type": "stream",
     "text": [
      "NeuralNetwork(\n",
      "  (flatten): Flatten(start_dim=1, end_dim=-1)\n",
      "  (linear_relu_stack): Sequential(\n",
      "    (0): Linear(in_features=784, out_features=512, bias=True)\n",
      "    (1): ReLU()\n",
      "    (2): Linear(in_features=512, out_features=512, bias=True)\n",
      "    (3): ReLU()\n",
      "    (4): Linear(in_features=512, out_features=10, bias=True)\n",
      "  )\n",
      ")\n"
     ]
    }
   ],
   "source": [
    "model = NeuralNetwork().to(device)\n",
    "print(model)"
   ]
  },
  {
   "cell_type": "code",
   "execution_count": 5,
   "id": "9cf6af7d-77e0-4ee4-bb5c-905002f90c3e",
   "metadata": {},
   "outputs": [
    {
     "name": "stdout",
     "output_type": "stream",
     "text": [
      "Predicted class: tensor([1], device='mps:0')\n"
     ]
    }
   ],
   "source": [
    "# Using the model\n",
    "X = torch.rand(1, 28, 28, device=device)\n",
    "logits = model(X)\n",
    "pred_probab = nn.Softmax(dim=1)(logits)\n",
    "y_pred = pred_probab.argmax(1)\n",
    "print(f\"Predicted class: {y_pred}\")"
   ]
  },
  {
   "cell_type": "code",
   "execution_count": 6,
   "id": "5078e071-1de2-41d2-910c-162f08549eeb",
   "metadata": {},
   "outputs": [
    {
     "name": "stdout",
     "output_type": "stream",
     "text": [
      "torch.Size([3, 28, 28])\n"
     ]
    }
   ],
   "source": [
    "# Model Layers\n",
    "input_image = torch.rand(3,28,28)\n",
    "print(input_image.size())"
   ]
  },
  {
   "cell_type": "code",
   "execution_count": 7,
   "id": "cc3a83f6-53ee-4288-8e0c-d1acfc75ae87",
   "metadata": {},
   "outputs": [
    {
     "name": "stdout",
     "output_type": "stream",
     "text": [
      "torch.Size([3, 784])\n"
     ]
    }
   ],
   "source": [
    "flatten = nn.Flatten()\n",
    "flat_image = flatten(input_image)\n",
    "print(flat_image.size())"
   ]
  },
  {
   "cell_type": "code",
   "execution_count": 8,
   "id": "de65e9f7-d042-418a-a2f6-3a76e75a06c8",
   "metadata": {},
   "outputs": [
    {
     "name": "stdout",
     "output_type": "stream",
     "text": [
      "torch.Size([3, 20])\n"
     ]
    }
   ],
   "source": [
    "layer1 = nn.Linear(in_features=28*28, out_features=20)\n",
    "hidden1 = layer1(flat_image)\n",
    "print(hidden1.size())"
   ]
  },
  {
   "cell_type": "code",
   "execution_count": 9,
   "id": "0254d510-735b-41c4-a653-0566a9ba12f6",
   "metadata": {},
   "outputs": [
    {
     "name": "stdout",
     "output_type": "stream",
     "text": [
      "Before ReLU: tensor([[-0.2662, -0.0010,  0.1248,  0.0046,  0.0500, -0.0558, -0.7375,  0.3015,\n",
      "          0.4537, -0.1422,  0.1130,  0.1380, -0.1200, -0.1729, -0.1057,  0.5447,\n",
      "          0.3434, -0.1517, -0.4203,  0.0501],\n",
      "        [-0.3897, -0.4203,  0.3150, -0.4065,  0.1901,  0.1392, -0.3867,  0.2762,\n",
      "          0.4713,  0.0050, -0.0440,  0.0645, -0.5313, -0.1051, -0.1495,  0.4617,\n",
      "          0.3356, -0.0885, -0.3783,  0.1142],\n",
      "        [-0.0487, -0.0551,  0.2671, -0.2634,  0.2756, -0.0031, -0.6468,  0.4409,\n",
      "          0.4891, -0.0013,  0.2599,  0.1131, -0.2744,  0.0807,  0.1480,  0.0627,\n",
      "          0.3062, -0.0380, -0.3257,  0.0467]], grad_fn=<AddmmBackward0>)\n",
      "\n",
      "\n",
      "After ReLU: tensor([[0.0000, 0.0000, 0.1248, 0.0046, 0.0500, 0.0000, 0.0000, 0.3015, 0.4537,\n",
      "         0.0000, 0.1130, 0.1380, 0.0000, 0.0000, 0.0000, 0.5447, 0.3434, 0.0000,\n",
      "         0.0000, 0.0501],\n",
      "        [0.0000, 0.0000, 0.3150, 0.0000, 0.1901, 0.1392, 0.0000, 0.2762, 0.4713,\n",
      "         0.0050, 0.0000, 0.0645, 0.0000, 0.0000, 0.0000, 0.4617, 0.3356, 0.0000,\n",
      "         0.0000, 0.1142],\n",
      "        [0.0000, 0.0000, 0.2671, 0.0000, 0.2756, 0.0000, 0.0000, 0.4409, 0.4891,\n",
      "         0.0000, 0.2599, 0.1131, 0.0000, 0.0807, 0.1480, 0.0627, 0.3062, 0.0000,\n",
      "         0.0000, 0.0467]], grad_fn=<ReluBackward0>)\n"
     ]
    }
   ],
   "source": [
    "print(f\"Before ReLU: {hidden1}\\n\\n\")\n",
    "hidden1 = nn.ReLU()(hidden1)\n",
    "print(f\"After ReLU: {hidden1}\")"
   ]
  },
  {
   "cell_type": "code",
   "execution_count": 13,
   "id": "d1e48052-7e5a-4f6d-a504-e0c4cd322c6a",
   "metadata": {},
   "outputs": [
    {
     "name": "stdout",
     "output_type": "stream",
     "text": [
      "logits: tensor([[ 0.2360, -0.0009,  0.0234,  0.3475, -0.0784, -0.1204, -0.2931, -0.1054,\n",
      "         -0.0134,  0.2920],\n",
      "        [ 0.2466, -0.0244,  0.0156,  0.3646, -0.0044, -0.0457, -0.3327, -0.0755,\n",
      "         -0.0545,  0.3856],\n",
      "        [ 0.1368, -0.0175,  0.0969,  0.3462, -0.0521, -0.0585, -0.3564, -0.1520,\n",
      "         -0.1026,  0.2823]], grad_fn=<AddmmBackward0>)\n"
     ]
    }
   ],
   "source": [
    "seq_modules = nn.Sequential(\n",
    "    flatten,\n",
    "    layer1,\n",
    "    nn.ReLU(),\n",
    "    nn.Linear(20, 10)\n",
    ")\n",
    "input_image = torch.rand(3,28,28)\n",
    "logits = seq_modules(input_image)\n",
    "print(f\"logits: {logits}\")"
   ]
  },
  {
   "cell_type": "code",
   "execution_count": 14,
   "id": "afe9b0ea-8c67-4991-aab8-39217ebb84f2",
   "metadata": {},
   "outputs": [
    {
     "name": "stdout",
     "output_type": "stream",
     "text": [
      "pred_probab: tensor([[0.1207, 0.0953, 0.0976, 0.1350, 0.0882, 0.0845, 0.0711, 0.0858, 0.0941,\n",
      "         0.1277],\n",
      "        [0.1193, 0.0910, 0.0947, 0.1343, 0.0928, 0.0891, 0.0669, 0.0865, 0.0883,\n",
      "         0.1371],\n",
      "        [0.1111, 0.0952, 0.1067, 0.1369, 0.0919, 0.0914, 0.0678, 0.0832, 0.0874,\n",
      "         0.1284]], grad_fn=<SoftmaxBackward0>)\n"
     ]
    }
   ],
   "source": [
    "softmax = nn.Softmax(dim=1)\n",
    "pred_probab = softmax(logits)\n",
    "print(f\"pred_probab: {pred_probab}\")"
   ]
  },
  {
   "cell_type": "code",
   "execution_count": 15,
   "id": "838d151a-5a6a-4838-a389-fe19364f1142",
   "metadata": {},
   "outputs": [
    {
     "name": "stdout",
     "output_type": "stream",
     "text": [
      "Model structure: NeuralNetwork(\n",
      "  (flatten): Flatten(start_dim=1, end_dim=-1)\n",
      "  (linear_relu_stack): Sequential(\n",
      "    (0): Linear(in_features=784, out_features=512, bias=True)\n",
      "    (1): ReLU()\n",
      "    (2): Linear(in_features=512, out_features=512, bias=True)\n",
      "    (3): ReLU()\n",
      "    (4): Linear(in_features=512, out_features=10, bias=True)\n",
      "  )\n",
      ")\n",
      "\n",
      "\n",
      "Layer: linear_relu_stack.0.weight | Size: torch.Size([512, 784]) | Values : tensor([[ 0.0127, -0.0056, -0.0046,  ...,  0.0104, -0.0130, -0.0105],\n",
      "        [ 0.0104,  0.0113, -0.0086,  ..., -0.0133,  0.0138, -0.0121]],\n",
      "       device='mps:0', grad_fn=<SliceBackward0>) \n",
      "\n",
      "Layer: linear_relu_stack.0.bias | Size: torch.Size([512]) | Values : tensor([-0.0055, -0.0283], device='mps:0', grad_fn=<SliceBackward0>) \n",
      "\n",
      "Layer: linear_relu_stack.2.weight | Size: torch.Size([512, 512]) | Values : tensor([[-0.0321,  0.0339,  0.0291,  ...,  0.0140,  0.0142, -0.0011],\n",
      "        [ 0.0088, -0.0073, -0.0234,  ...,  0.0391, -0.0238,  0.0226]],\n",
      "       device='mps:0', grad_fn=<SliceBackward0>) \n",
      "\n",
      "Layer: linear_relu_stack.2.bias | Size: torch.Size([512]) | Values : tensor([-0.0394, -0.0222], device='mps:0', grad_fn=<SliceBackward0>) \n",
      "\n",
      "Layer: linear_relu_stack.4.weight | Size: torch.Size([10, 512]) | Values : tensor([[-0.0122,  0.0255,  0.0082,  ...,  0.0113, -0.0356,  0.0300],\n",
      "        [-0.0025, -0.0364,  0.0072,  ...,  0.0376, -0.0098, -0.0314]],\n",
      "       device='mps:0', grad_fn=<SliceBackward0>) \n",
      "\n",
      "Layer: linear_relu_stack.4.bias | Size: torch.Size([10]) | Values : tensor([0.0421, 0.0182], device='mps:0', grad_fn=<SliceBackward0>) \n",
      "\n"
     ]
    }
   ],
   "source": [
    "# Model Parameters\n",
    "print(f\"Model structure: {model}\\n\\n\")\n",
    "\n",
    "for name, param in model.named_parameters():\n",
    "    print(f\"Layer: {name} | Size: {param.size()} | Values : {param[:2]} \\n\")"
   ]
  },
  {
   "cell_type": "code",
   "execution_count": null,
   "id": "9cac8ff3-54bb-4072-80b7-5ce3bf299975",
   "metadata": {},
   "outputs": [],
   "source": []
  }
 ],
 "metadata": {
  "kernelspec": {
   "display_name": "Python 3 (ipykernel)",
   "language": "python",
   "name": "python3"
  },
  "language_info": {
   "codemirror_mode": {
    "name": "ipython",
    "version": 3
   },
   "file_extension": ".py",
   "mimetype": "text/x-python",
   "name": "python",
   "nbconvert_exporter": "python",
   "pygments_lexer": "ipython3",
   "version": "3.12.1"
  }
 },
 "nbformat": 4,
 "nbformat_minor": 5
}
