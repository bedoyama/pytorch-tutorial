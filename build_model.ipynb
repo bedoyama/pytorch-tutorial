{
 "cells": [
  {
   "cell_type": "code",
   "execution_count": 1,
   "id": "717d8632-6083-4cc8-be87-9c74aa1df71b",
   "metadata": {},
   "outputs": [],
   "source": [
    "import os\n",
    "import torch\n",
    "from torch import nn\n",
    "from torch.utils.data import DataLoader\n",
    "from torchvision import datasets, transforms"
   ]
  },
  {
   "cell_type": "code",
   "execution_count": 2,
   "id": "582ed756-26f6-49ea-bc0b-b81cf40b006f",
   "metadata": {},
   "outputs": [
    {
     "name": "stdout",
     "output_type": "stream",
     "text": [
      "Using mps device\n"
     ]
    }
   ],
   "source": [
    "# Get Device for Training\n",
    "device = (\n",
    "    \"cuda\"\n",
    "    if torch.cuda.is_available()\n",
    "    else \"mps\"\n",
    "    if torch.backends.mps.is_available()\n",
    "    else \"cpu\"\n",
    ")\n",
    "print(f\"Using {device} device\")"
   ]
  },
  {
   "cell_type": "code",
   "execution_count": 3,
   "id": "16e0072a-a6c3-4bc5-9db5-f1a13eb934d6",
   "metadata": {},
   "outputs": [],
   "source": [
    "# Define the Class\n",
    "class NeuralNetwork(nn.Module):\n",
    "    def __init__(self):\n",
    "        super().__init__()\n",
    "        self.flatten = nn.Flatten()\n",
    "        self.linear_relu_stack = nn.Sequential(\n",
    "            nn.Linear(28*28, 512),\n",
    "            nn.ReLU(),\n",
    "            nn.Linear(512, 512),\n",
    "            nn.ReLU(),\n",
    "            nn.Linear(512, 10),\n",
    "        )\n",
    "\n",
    "    def forward(self, x):\n",
    "        x = self.flatten(x)\n",
    "        logits = self.linear_relu_stack(x)\n",
    "        return logits"
   ]
  },
  {
   "cell_type": "code",
   "execution_count": 4,
   "id": "f182d1f8-f3f9-47f1-873c-6a5fc3c59ee8",
   "metadata": {},
   "outputs": [
    {
     "name": "stdout",
     "output_type": "stream",
     "text": [
      "NeuralNetwork(\n",
      "  (flatten): Flatten(start_dim=1, end_dim=-1)\n",
      "  (linear_relu_stack): Sequential(\n",
      "    (0): Linear(in_features=784, out_features=512, bias=True)\n",
      "    (1): ReLU()\n",
      "    (2): Linear(in_features=512, out_features=512, bias=True)\n",
      "    (3): ReLU()\n",
      "    (4): Linear(in_features=512, out_features=10, bias=True)\n",
      "  )\n",
      ")\n"
     ]
    }
   ],
   "source": [
    "model = NeuralNetwork().to(device)\n",
    "print(model)"
   ]
  },
  {
   "cell_type": "code",
   "execution_count": 5,
   "id": "9cf6af7d-77e0-4ee4-bb5c-905002f90c3e",
   "metadata": {},
   "outputs": [
    {
     "name": "stdout",
     "output_type": "stream",
     "text": [
      "Predicted class: tensor([3], device='mps:0')\n"
     ]
    }
   ],
   "source": [
    "# Using the model\n",
    "X = torch.rand(1, 28, 28, device=device)\n",
    "logits = model(X)\n",
    "pred_probab = nn.Softmax(dim=1)(logits)\n",
    "y_pred = pred_probab.argmax(1)\n",
    "print(f\"Predicted class: {y_pred}\")"
   ]
  },
  {
   "cell_type": "code",
   "execution_count": 6,
   "id": "5078e071-1de2-41d2-910c-162f08549eeb",
   "metadata": {},
   "outputs": [
    {
     "name": "stdout",
     "output_type": "stream",
     "text": [
      "torch.Size([3, 28, 28])\n"
     ]
    }
   ],
   "source": [
    "# Model Layers\n",
    "input_image = torch.rand(3,28,28)\n",
    "print(input_image.size())"
   ]
  },
  {
   "cell_type": "code",
   "execution_count": 7,
   "id": "cc3a83f6-53ee-4288-8e0c-d1acfc75ae87",
   "metadata": {},
   "outputs": [
    {
     "name": "stdout",
     "output_type": "stream",
     "text": [
      "torch.Size([3, 784])\n"
     ]
    }
   ],
   "source": [
    "flatten = nn.Flatten()\n",
    "flat_image = flatten(input_image)\n",
    "print(flat_image.size())"
   ]
  },
  {
   "cell_type": "code",
   "execution_count": 8,
   "id": "de65e9f7-d042-418a-a2f6-3a76e75a06c8",
   "metadata": {},
   "outputs": [
    {
     "name": "stdout",
     "output_type": "stream",
     "text": [
      "torch.Size([3, 20])\n"
     ]
    }
   ],
   "source": [
    "layer1 = nn.Linear(in_features=28*28, out_features=20)\n",
    "hidden1 = layer1(flat_image)\n",
    "print(hidden1.size())"
   ]
  },
  {
   "cell_type": "code",
   "execution_count": 9,
   "id": "0254d510-735b-41c4-a653-0566a9ba12f6",
   "metadata": {},
   "outputs": [
    {
     "name": "stdout",
     "output_type": "stream",
     "text": [
      "Before ReLU: tensor([[-0.2023, -0.1416, -0.0899, -0.0590, -0.1011, -0.4016, -0.1904,  0.2549,\n",
      "          0.1741, -0.1188, -0.1359, -0.2196,  0.1863,  0.1602,  0.1990, -0.0983,\n",
      "          0.6915,  0.0566,  0.4254,  0.4734],\n",
      "        [ 0.0802, -0.3311,  0.3908, -0.1330, -0.2444, -0.0893, -0.7979,  0.2092,\n",
      "          0.3510, -0.2564, -0.0150, -0.1060,  0.1622, -0.0596, -0.0655,  0.0595,\n",
      "          0.2560,  0.2180,  0.0217,  0.4480],\n",
      "        [-0.3232, -0.6133,  0.0485,  0.2278, -0.5668, -0.1866, -0.3176,  0.0703,\n",
      "          0.3792, -0.3791,  0.0767,  0.0789,  0.2345,  0.2821, -0.1588, -0.1382,\n",
      "          0.2343, -0.0307,  0.0294,  0.5486]], grad_fn=<AddmmBackward0>)\n",
      "\n",
      "\n",
      "After ReLU: tensor([[0.0000, 0.0000, 0.0000, 0.0000, 0.0000, 0.0000, 0.0000, 0.2549, 0.1741,\n",
      "         0.0000, 0.0000, 0.0000, 0.1863, 0.1602, 0.1990, 0.0000, 0.6915, 0.0566,\n",
      "         0.4254, 0.4734],\n",
      "        [0.0802, 0.0000, 0.3908, 0.0000, 0.0000, 0.0000, 0.0000, 0.2092, 0.3510,\n",
      "         0.0000, 0.0000, 0.0000, 0.1622, 0.0000, 0.0000, 0.0595, 0.2560, 0.2180,\n",
      "         0.0217, 0.4480],\n",
      "        [0.0000, 0.0000, 0.0485, 0.2278, 0.0000, 0.0000, 0.0000, 0.0703, 0.3792,\n",
      "         0.0000, 0.0767, 0.0789, 0.2345, 0.2821, 0.0000, 0.0000, 0.2343, 0.0000,\n",
      "         0.0294, 0.5486]], grad_fn=<ReluBackward0>)\n"
     ]
    }
   ],
   "source": [
    "print(f\"Before ReLU: {hidden1}\\n\\n\")\n",
    "hidden1 = nn.ReLU()(hidden1)\n",
    "print(f\"After ReLU: {hidden1}\")"
   ]
  },
  {
   "cell_type": "code",
   "execution_count": 10,
   "id": "d1e48052-7e5a-4f6d-a504-e0c4cd322c6a",
   "metadata": {},
   "outputs": [
    {
     "name": "stdout",
     "output_type": "stream",
     "text": [
      "logits: tensor([[-0.3136, -0.2112, -0.1726, -0.2164, -0.2787, -0.0816, -0.1416, -0.0879,\n",
      "         -0.1253, -0.3664],\n",
      "        [-0.2292, -0.1236, -0.1205, -0.2478, -0.2556, -0.0035, -0.1667, -0.1469,\n",
      "         -0.1597, -0.2497],\n",
      "        [-0.2536, -0.1928, -0.1973, -0.1823, -0.2497, -0.0592, -0.1317, -0.1437,\n",
      "         -0.1081, -0.2992]], grad_fn=<AddmmBackward0>)\n"
     ]
    }
   ],
   "source": [
    "seq_modules = nn.Sequential(\n",
    "    flatten,\n",
    "    layer1,\n",
    "    nn.ReLU(),\n",
    "    nn.Linear(20, 10)\n",
    ")\n",
    "input_image = torch.rand(3,28,28)\n",
    "logits = seq_modules(input_image)\n",
    "print(f\"logits: {logits}\")"
   ]
  },
  {
   "cell_type": "code",
   "execution_count": 11,
   "id": "afe9b0ea-8c67-4991-aab8-39217ebb84f2",
   "metadata": {},
   "outputs": [
    {
     "name": "stdout",
     "output_type": "stream",
     "text": [
      "pred_probab: tensor([[0.0888, 0.0984, 0.1023, 0.0979, 0.0920, 0.1121, 0.1055, 0.1114, 0.1073,\n",
      "         0.0843],\n",
      "        [0.0940, 0.1045, 0.1048, 0.0923, 0.0916, 0.1178, 0.1001, 0.1021, 0.1008,\n",
      "         0.0921],\n",
      "        [0.0928, 0.0987, 0.0982, 0.0997, 0.0932, 0.1128, 0.1049, 0.1036, 0.1074,\n",
      "         0.0887]], grad_fn=<SoftmaxBackward0>)\n"
     ]
    }
   ],
   "source": [
    "softmax = nn.Softmax(dim=1)\n",
    "pred_probab = softmax(logits)\n",
    "print(f\"pred_probab: {pred_probab}\")"
   ]
  },
  {
   "cell_type": "code",
   "execution_count": 12,
   "id": "838d151a-5a6a-4838-a389-fe19364f1142",
   "metadata": {},
   "outputs": [
    {
     "name": "stdout",
     "output_type": "stream",
     "text": [
      "Model structure: NeuralNetwork(\n",
      "  (flatten): Flatten(start_dim=1, end_dim=-1)\n",
      "  (linear_relu_stack): Sequential(\n",
      "    (0): Linear(in_features=784, out_features=512, bias=True)\n",
      "    (1): ReLU()\n",
      "    (2): Linear(in_features=512, out_features=512, bias=True)\n",
      "    (3): ReLU()\n",
      "    (4): Linear(in_features=512, out_features=10, bias=True)\n",
      "  )\n",
      ")\n",
      "\n",
      "\n",
      "Layer: linear_relu_stack.0.weight | Size: torch.Size([512, 784]) | Values : tensor([[ 0.0104,  0.0277, -0.0308,  ..., -0.0178, -0.0260, -0.0224],\n",
      "        [ 0.0100, -0.0266,  0.0271,  ..., -0.0289, -0.0114, -0.0162]],\n",
      "       device='mps:0', grad_fn=<SliceBackward0>) \n",
      "\n",
      "Layer: linear_relu_stack.0.bias | Size: torch.Size([512]) | Values : tensor([-0.0228, -0.0329], device='mps:0', grad_fn=<SliceBackward0>) \n",
      "\n",
      "Layer: linear_relu_stack.2.weight | Size: torch.Size([512, 512]) | Values : tensor([[ 0.0292, -0.0214,  0.0123,  ...,  0.0324,  0.0287, -0.0215],\n",
      "        [-0.0242,  0.0435, -0.0027,  ...,  0.0030,  0.0089, -0.0093]],\n",
      "       device='mps:0', grad_fn=<SliceBackward0>) \n",
      "\n",
      "Layer: linear_relu_stack.2.bias | Size: torch.Size([512]) | Values : tensor([-0.0168,  0.0234], device='mps:0', grad_fn=<SliceBackward0>) \n",
      "\n",
      "Layer: linear_relu_stack.4.weight | Size: torch.Size([10, 512]) | Values : tensor([[ 0.0381,  0.0429, -0.0131,  ...,  0.0180, -0.0345, -0.0061],\n",
      "        [ 0.0067,  0.0172, -0.0323,  ...,  0.0135, -0.0386,  0.0006]],\n",
      "       device='mps:0', grad_fn=<SliceBackward0>) \n",
      "\n",
      "Layer: linear_relu_stack.4.bias | Size: torch.Size([10]) | Values : tensor([ 0.0071, -0.0108], device='mps:0', grad_fn=<SliceBackward0>) \n",
      "\n"
     ]
    }
   ],
   "source": [
    "# Model Parameters\n",
    "print(f\"Model structure: {model}\\n\\n\")\n",
    "\n",
    "for name, param in model.named_parameters():\n",
    "    print(f\"Layer: {name} | Size: {param.size()} | Values : {param[:2]} \\n\")"
   ]
  },
  {
   "cell_type": "code",
   "execution_count": null,
   "id": "9cac8ff3-54bb-4072-80b7-5ce3bf299975",
   "metadata": {},
   "outputs": [],
   "source": []
  }
 ],
 "metadata": {
  "kernelspec": {
   "display_name": "Python 3 (ipykernel)",
   "language": "python",
   "name": "python3"
  },
  "language_info": {
   "codemirror_mode": {
    "name": "ipython",
    "version": 3
   },
   "file_extension": ".py",
   "mimetype": "text/x-python",
   "name": "python",
   "nbconvert_exporter": "python",
   "pygments_lexer": "ipython3",
   "version": "3.12.1"
  }
 },
 "nbformat": 4,
 "nbformat_minor": 5
}
